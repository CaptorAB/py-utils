{
 "cells": [
  {
   "cell_type": "code",
   "execution_count": null,
   "id": "949d8b35",
   "metadata": {},
   "outputs": [],
   "source": [
    "%pip install -q requests pyjwt werkzeug openseries ipython nbformat"
   ]
  },
  {
   "cell_type": "code",
   "execution_count": null,
   "id": "b3b1af46",
   "metadata": {},
   "outputs": [],
   "source": [
    "import datetime as dt\n",
    "\n",
    "import plotly.io as pio\n",
    "from openseries import OpenFrame, OpenTimeSeries, load_plotly_dict, report_html\n",
    "\n",
    "from graphql_client import GraphqlClient, GraphqlError"
   ]
  },
  {
   "cell_type": "code",
   "execution_count": null,
   "id": "cfc57279",
   "metadata": {},
   "outputs": [],
   "source": [
    "pio.renderers.default = \"vscode\"  # notebook_connected, colab, vscode\n",
    "figdict, _ = load_plotly_dict()"
   ]
  },
  {
   "cell_type": "code",
   "execution_count": null,
   "id": "d2366e9b",
   "metadata": {},
   "outputs": [],
   "source": [
    "%load_ext autoreload\n",
    "%autoreload 2"
   ]
  },
  {
   "cell_type": "code",
   "execution_count": null,
   "id": "b00f00e5",
   "metadata": {},
   "outputs": [],
   "source": [
    "gql = GraphqlClient()"
   ]
  },
  {
   "cell_type": "code",
   "execution_count": null,
   "id": "900d7852",
   "metadata": {},
   "outputs": [],
   "source": [
    "def get_timeseries(\n",
    "    graphql: GraphqlClient,\n",
    "    timeseries_ids: str | list[str] | None = None,\n",
    "    instrument_ids: str | list[str] | None = None,\n",
    "    names: str | list[str] | None = None,\n",
    "    isin_codes: str | list[str] | None = None,\n",
    "    replacing_labels: str | list[str] | None = None,\n",
    "    start: dt.date | None = None,\n",
    "    end: dt.date | None = None,\n",
    ") -> OpenTimeSeries | OpenFrame:\n",
    "    \"\"\"Queries one or several timeseries.\"\"\"\n",
    "    query = \"\"\" query timeseries(\n",
    "                   $timeseries_ids: [GraphQLObjectId!],\n",
    "                   $instrument_ids: [GraphQLObjectId!],\n",
    "                   $names: [String!],\n",
    "                   $isin_codes: [GraphQLIsin!],\n",
    "                   $valuetype: [String!] = \"Price(Close)\",\n",
    "                   $start: GraphQLDateString,\n",
    "                   $end: GraphQLDateString\n",
    "                   ) {\n",
    "                   timeseries(\n",
    "                       filter: {\n",
    "                         idIn: $timeseries_ids,\n",
    "                         instrumentIdIn: $instrument_ids,\n",
    "                         instrumentNameIn: $names,\n",
    "                         instrumentIsinIn: $isin_codes,\n",
    "                         typeIn: $valuetype,\n",
    "                         startDate: $start,\n",
    "                         endDate: $end,\n",
    "                         statusIn: Active\n",
    "                       }\n",
    "                       includeItems: true\n",
    "                   ) {\n",
    "                       _id\n",
    "                       type\n",
    "                       instrument {\n",
    "                         _id\n",
    "                         name\n",
    "                         currency\n",
    "                         isin\n",
    "                       }\n",
    "                       dates\n",
    "                       values\n",
    "                   }\n",
    "                } \"\"\"\n",
    "    variables = {\n",
    "        \"timeseries_ids\": list(timeseries_ids) if timeseries_ids else None,\n",
    "        \"instrument_ids\": list(instrument_ids) if instrument_ids else None,\n",
    "        \"names\": list(names) if names else None,\n",
    "        \"isin_codes\": list(isin_codes) if isin_codes else None,\n",
    "        \"start\": start.strftime(\"%Y-%m-%d\") if start else None,\n",
    "        \"end\": end.strftime(\"%Y-%m-%d\") if end else None,\n",
    "    }\n",
    "\n",
    "    data, errors = graphql.query(query_string=query, variables=variables)\n",
    "\n",
    "    if errors:\n",
    "        raise GraphqlError(str(errors))\n",
    "\n",
    "    output: list[OpenTimeSeries] = []\n",
    "\n",
    "    for i, series in enumerate(data[\"timeseries\"]):\n",
    "        if replacing_labels:\n",
    "            if len(data[\"timeseries\"]) != len(replacing_labels):\n",
    "                msg = \"Number of labels mush match number of timeseries.\"\n",
    "                raise ValueError(msg)\n",
    "            label = replacing_labels[i]\n",
    "        else:\n",
    "            label = series[\"instrument\"][\"name\"]\n",
    "        output.append(\n",
    "            OpenTimeSeries.from_arrays(\n",
    "                name=label,\n",
    "                timeseries_id=series[\"_id\"],\n",
    "                instrument_id=series[\"instrument\"][\"_id\"],\n",
    "                isin=series[\"instrument\"][\"isin\"],\n",
    "                baseccy=series[\"instrument\"][\"currency\"],\n",
    "                dates=series[\"dates\"],\n",
    "                values=series[\"values\"],\n",
    "            )\n",
    "        )\n",
    "\n",
    "    if len(output) == 1:\n",
    "        return output[0]\n",
    "    return OpenFrame(constituents=output)"
   ]
  },
  {
   "cell_type": "code",
   "execution_count": null,
   "id": "2d15ddf1",
   "metadata": {},
   "outputs": [],
   "source": [
    "start = dt.date(2017, 5, 29)\n",
    "end = None\n",
    "\n",
    "myseries = get_timeseries(\n",
    "    graphql=gql,\n",
    "    start=start,\n",
    "    end=end,\n",
    "    names=[\"CAPIRISC\", \"SEK Swap Basket TR\"],\n",
    "    replacing_labels=[\"Captor Iris Bond C\", \"Iris Bond internal benchmark\"],\n",
    ")"
   ]
  },
  {
   "cell_type": "code",
   "execution_count": null,
   "id": "d539f15a",
   "metadata": {},
   "outputs": [],
   "source": [
    "_ = myseries.to_xlsx(filename=\"data.xlsx\")\n",
    "\n",
    "_ = myseries.to_cumret()"
   ]
  },
  {
   "cell_type": "code",
   "execution_count": null,
   "id": "14fa98dc",
   "metadata": {},
   "outputs": [],
   "source": [
    "figure, _ = myseries.plot_series(tick_fmt=\".2%\", output_type=\"div\")\n",
    "figure.show(config=figdict[\"config\"])"
   ]
  },
  {
   "cell_type": "code",
   "execution_count": null,
   "id": "f634b0c3",
   "metadata": {},
   "outputs": [],
   "source": [
    "report, _ = report_html(\n",
    "    data=myseries,\n",
    "    title=\"Captor Iris Bond\",\n",
    "    bar_freq=\"BYE\",\n",
    "    vertical_legend=False,\n",
    "    output_type=\"div\",\n",
    ")\n",
    "report = report.update_layout(font_size=10, width=1100, height=650)\n",
    "report.show(config=figdict[\"config\"])"
   ]
  }
 ],
 "metadata": {
  "kernelspec": {
   "display_name": "venv",
   "language": "python",
   "name": "python3"
  },
  "language_info": {
   "codemirror_mode": {
    "name": "ipython",
    "version": 3
   },
   "file_extension": ".py",
   "mimetype": "text/x-python",
   "name": "python",
   "nbconvert_exporter": "python",
   "pygments_lexer": "ipython3",
   "version": "3.13.6"
  }
 },
 "nbformat": 4,
 "nbformat_minor": 5
}
